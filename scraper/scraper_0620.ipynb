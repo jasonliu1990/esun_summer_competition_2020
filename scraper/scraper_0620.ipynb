{
 "cells": [
  {
   "cell_type": "code",
   "execution_count": 1,
   "metadata": {
    "collapsed": true
   },
   "outputs": [],
   "source": [
    "import pandas as pd\n",
    "import requests\n",
    "from bs4 import BeautifulSoup\n",
    "from datetime import datetime\n",
    "import re\n",
    "import numpy as np"
   ]
  },
  {
   "cell_type": "code",
   "execution_count": 2,
   "metadata": {
    "collapsed": true
   },
   "outputs": [],
   "source": [
    "st = datetime.now()\n",
    "data = pd.read_csv('F:\\\\Github\\\\esun_competition\\\\模型訓練資料\\\\tbrain_train_final_0610.csv')"
   ]
  },
  {
   "cell_type": "code",
   "execution_count": 50,
   "metadata": {
    "collapsed": true
   },
   "outputs": [],
   "source": [
    "def scraper(news_id: str, url: str) -> dict:\n",
    "    \n",
    "    full_content_dict = {}\n",
    "    # 爬蟲\n",
    "    headers = {\"user-agent\": \"Mozilla/5.0 (Windows NT 10.0; Win64; x64) AppleWebKit/537.36 (KHTML, like Gecko) Chrome/83.0.4103.61 Safari/537.36\"}\n",
    "    r = requests.get(url.strip(), headers=headers)\n",
    "    # 編碼判斷\n",
    "    if r.text.find('MS950') > 0:\n",
    "        r.encoding = 'MS950'\n",
    "    else:\n",
    "        r.encoding = 'utf8'\n",
    "    # 判斷網頁是否還有效\n",
    "    if (r.status_code != 200) or (r.text.find('/e404?') != -1):\n",
    "        full_content_dict['news_id'] = news_id\n",
    "        full_content_dict['url'] = url\n",
    "        full_content_dict['raw_content'] = ''\n",
    "        full_content_dict['status'] = '404NotFound'\n",
    "        return full_content_dict\n",
    "    else:\n",
    "        # 拿出P標籤的內容  \n",
    "        soup = BeautifulSoup(r.text, 'html.parser')\n",
    "        tmp_txt = list(map(lambda x: x.text, soup.findAll('p')))\n",
    "        tmp_txt = list(filter(None, tmp_txt))\n",
    "        # 例外處理:\n",
    "        # 1. http://domestic.judicial.gov.tw/abbs/wkw/WHD9HN03.jsp?crtid=CYD&filenm=68ADCBFE767075384653495F3FA64520CA9752844054E3A0\n",
    "        if len(tmp_txt) == 0:\n",
    "            tmp_txt = list(map(lambda x: x.string, soup.findAll('pre')))\n",
    "            tmp_txt = list(filter(None, tmp_txt))\n",
    "        # 2. https://www.fsc.gov.tw/ch/home.jsp?id=131&parentpath=0,2&mcustomize=multimessages_view.jsp&dataserno=201908150001&aplistdn=ou=data,ou=penalty,ou=multisite,ou=chinese,ou=ap_root,o=fsc,c=tw&dtable=Penalty\n",
    "        if len(tmp_txt) == 0:\n",
    "            tmp_txt = list(map(lambda x: x.string, soup.findAll('div')))\n",
    "            tmp_txt = list(filter(None, tmp_txt))\n",
    "        # 3. https://www.nownews.com/news/20190802/3537141/\n",
    "        if url.find('https://www.nownews.com/news/') > -1:\n",
    "            tmp_txt = list(map(lambda x: x.text, soup.findAll('div', class_='newsMsg')))\n",
    "            tmp_txt = list(filter(None, tmp_txt))\n",
    "        # 4. http://domestic.judicial.gov.tw/abbs/wkw/WHD9HN03.jsp?crtid=PCD&filenm=ECE5DAECAF563DA1EDA2C73542845EC436C311AF4D5042BF\n",
    "        if ''.join(tmp_txt).replace('\\n', '') == '':\n",
    "            tmp_txt = list(map(lambda x: x.string, soup.findAll('pre')))\n",
    "            tmp_txt = list(filter(None, tmp_txt))\n",
    "            \n",
    "        # list join成一個str\n",
    "        tmp_txt = ''.join(tmp_txt)\n",
    "\n",
    "        # 標出內容太多的，但不一定是垃圾\n",
    "        if len(tmp_txt) > 7000:\n",
    "            full_content_dict['status'] = 'warning'\n",
    "        else:\n",
    "            full_content_dict['status'] = 'ok'\n",
    "\n",
    "        full_content_dict['news_id'] = news_id # 必須留，避免一樣url時無法識別。\n",
    "        full_content_dict['url'] = url \n",
    "        full_content_dict['raw_content'] = tmp_txt # 紀錄原始文本，釐清是清錯了，還是根本沒爬到\n",
    "\n",
    "        return full_content_dict\n",
    "\n",
    "# check 名字有沒有都爬到\n",
    "def check_name(names: pd.Series, contents: pd.Series) -> list:\n",
    "    check_list = [] # 1 element = 1 news\n",
    "    for name, content in zip(names, contents):\n",
    "        if name == '[]' or content is np.nan:\n",
    "            check_list.append('no names.')\n",
    "        else:\n",
    "            # 處理名字格式\n",
    "            temp_name = name.replace('[', '').replace(']', '').replace('\\'', '')\n",
    "            temp_name = temp_name.split(', ')\n",
    "            temp_list = [] # 1 element = 1 name\n",
    "            # 人名是否有在content裡，因為有多個名字，要展開比對\n",
    "            for nn in temp_name: \n",
    "                if nn in content:\n",
    "                    temp_list.append(True)\n",
    "                else:\n",
    "                    temp_list.append(False)\n",
    "            check_list.append(all(temp_list)) # 每個人名都有，才算True\n",
    "    return check_list"
   ]
  },
  {
   "cell_type": "code",
   "execution_count": 51,
   "metadata": {
    "scrolled": true
   },
   "outputs": [
    {
     "ename": "KeyboardInterrupt",
     "evalue": "",
     "output_type": "error",
     "traceback": [
      "\u001b[1;31m---------------------------------------------------------------------------\u001b[0m",
      "\u001b[1;31mTypeError\u001b[0m                                 Traceback (most recent call last)",
      "\u001b[1;32mC:\\Users\\iima\\Anaconda3\\lib\\site-packages\\requests\\packages\\urllib3\\connectionpool.py\u001b[0m in \u001b[0;36m_make_request\u001b[1;34m(self, conn, method, url, timeout, chunked, **httplib_request_kw)\u001b[0m\n\u001b[0;32m    378\u001b[0m             \u001b[1;32mtry\u001b[0m\u001b[1;33m:\u001b[0m  \u001b[1;31m# Python 2.7, use buffering of HTTP responses\u001b[0m\u001b[1;33m\u001b[0m\u001b[0m\n\u001b[1;32m--> 379\u001b[1;33m                 \u001b[0mhttplib_response\u001b[0m \u001b[1;33m=\u001b[0m \u001b[0mconn\u001b[0m\u001b[1;33m.\u001b[0m\u001b[0mgetresponse\u001b[0m\u001b[1;33m(\u001b[0m\u001b[0mbuffering\u001b[0m\u001b[1;33m=\u001b[0m\u001b[1;32mTrue\u001b[0m\u001b[1;33m)\u001b[0m\u001b[1;33m\u001b[0m\u001b[0m\n\u001b[0m\u001b[0;32m    380\u001b[0m             \u001b[1;32mexcept\u001b[0m \u001b[0mTypeError\u001b[0m\u001b[1;33m:\u001b[0m  \u001b[1;31m# Python 2.6 and older, Python 3\u001b[0m\u001b[1;33m\u001b[0m\u001b[0m\n",
      "\u001b[1;31mTypeError\u001b[0m: getresponse() got an unexpected keyword argument 'buffering'",
      "\nDuring handling of the above exception, another exception occurred:\n",
      "\u001b[1;31mKeyboardInterrupt\u001b[0m                         Traceback (most recent call last)",
      "\u001b[1;32m<ipython-input-51-3d47c58d1c12>\u001b[0m in \u001b[0;36m<module>\u001b[1;34m()\u001b[0m\n\u001b[0;32m      3\u001b[0m \u001b[1;32mfor\u001b[0m \u001b[1;33m(\u001b[0m\u001b[0mnews_id\u001b[0m\u001b[1;33m,\u001b[0m \u001b[0murl\u001b[0m\u001b[1;33m)\u001b[0m \u001b[1;32min\u001b[0m \u001b[0mzip\u001b[0m\u001b[1;33m(\u001b[0m\u001b[0mdata\u001b[0m\u001b[1;33m[\u001b[0m\u001b[1;34m'news_ID'\u001b[0m\u001b[1;33m]\u001b[0m\u001b[1;33m.\u001b[0m\u001b[0mvalues\u001b[0m\u001b[1;33m,\u001b[0m \u001b[0mdata\u001b[0m\u001b[1;33m[\u001b[0m\u001b[1;34m'hyperlink'\u001b[0m\u001b[1;33m]\u001b[0m\u001b[1;33m.\u001b[0m\u001b[0mvalues\u001b[0m\u001b[1;33m)\u001b[0m\u001b[1;33m:\u001b[0m\u001b[1;33m\u001b[0m\u001b[0m\n\u001b[0;32m      4\u001b[0m     \u001b[1;32mtry\u001b[0m\u001b[1;33m:\u001b[0m\u001b[1;33m\u001b[0m\u001b[0m\n\u001b[1;32m----> 5\u001b[1;33m         \u001b[0mfull_content_list\u001b[0m\u001b[1;33m.\u001b[0m\u001b[0mappend\u001b[0m\u001b[1;33m(\u001b[0m\u001b[0mscraper\u001b[0m\u001b[1;33m(\u001b[0m\u001b[0mnews_id\u001b[0m\u001b[1;33m,\u001b[0m \u001b[0murl\u001b[0m\u001b[1;33m)\u001b[0m\u001b[1;33m)\u001b[0m\u001b[1;33m\u001b[0m\u001b[0m\n\u001b[0m\u001b[0;32m      6\u001b[0m     \u001b[1;32mexcept\u001b[0m \u001b[0mException\u001b[0m \u001b[1;32mas\u001b[0m \u001b[0me\u001b[0m\u001b[1;33m:\u001b[0m\u001b[1;33m\u001b[0m\u001b[0m\n\u001b[0;32m      7\u001b[0m         full_content_list.append({'news_id': news_id,\n",
      "\u001b[1;32m<ipython-input-50-85b7b39fd95e>\u001b[0m in \u001b[0;36mscraper\u001b[1;34m(news_id, url)\u001b[0m\n\u001b[0;32m      4\u001b[0m     \u001b[1;31m# 爬蟲\u001b[0m\u001b[1;33m\u001b[0m\u001b[1;33m\u001b[0m\u001b[0m\n\u001b[0;32m      5\u001b[0m     \u001b[0mheaders\u001b[0m \u001b[1;33m=\u001b[0m \u001b[1;33m{\u001b[0m\u001b[1;34m\"user-agent\"\u001b[0m\u001b[1;33m:\u001b[0m \u001b[1;34m\"Mozilla/5.0 (Windows NT 10.0; Win64; x64) AppleWebKit/537.36 (KHTML, like Gecko) Chrome/83.0.4103.61 Safari/537.36\"\u001b[0m\u001b[1;33m}\u001b[0m\u001b[1;33m\u001b[0m\u001b[0m\n\u001b[1;32m----> 6\u001b[1;33m     \u001b[0mr\u001b[0m \u001b[1;33m=\u001b[0m \u001b[0mrequests\u001b[0m\u001b[1;33m.\u001b[0m\u001b[0mget\u001b[0m\u001b[1;33m(\u001b[0m\u001b[0murl\u001b[0m\u001b[1;33m,\u001b[0m \u001b[0mheaders\u001b[0m\u001b[1;33m=\u001b[0m\u001b[0mheaders\u001b[0m\u001b[1;33m)\u001b[0m\u001b[1;33m\u001b[0m\u001b[0m\n\u001b[0m\u001b[0;32m      7\u001b[0m     \u001b[1;31m# 編碼判斷\u001b[0m\u001b[1;33m\u001b[0m\u001b[1;33m\u001b[0m\u001b[0m\n\u001b[0;32m      8\u001b[0m     \u001b[1;32mif\u001b[0m \u001b[0mr\u001b[0m\u001b[1;33m.\u001b[0m\u001b[0mtext\u001b[0m\u001b[1;33m.\u001b[0m\u001b[0mfind\u001b[0m\u001b[1;33m(\u001b[0m\u001b[1;34m'MS950'\u001b[0m\u001b[1;33m)\u001b[0m \u001b[1;33m>\u001b[0m \u001b[1;36m0\u001b[0m\u001b[1;33m:\u001b[0m\u001b[1;33m\u001b[0m\u001b[0m\n",
      "\u001b[1;32mC:\\Users\\iima\\Anaconda3\\lib\\site-packages\\requests\\api.py\u001b[0m in \u001b[0;36mget\u001b[1;34m(url, params, **kwargs)\u001b[0m\n\u001b[0;32m     70\u001b[0m \u001b[1;33m\u001b[0m\u001b[0m\n\u001b[0;32m     71\u001b[0m     \u001b[0mkwargs\u001b[0m\u001b[1;33m.\u001b[0m\u001b[0msetdefault\u001b[0m\u001b[1;33m(\u001b[0m\u001b[1;34m'allow_redirects'\u001b[0m\u001b[1;33m,\u001b[0m \u001b[1;32mTrue\u001b[0m\u001b[1;33m)\u001b[0m\u001b[1;33m\u001b[0m\u001b[0m\n\u001b[1;32m---> 72\u001b[1;33m     \u001b[1;32mreturn\u001b[0m \u001b[0mrequest\u001b[0m\u001b[1;33m(\u001b[0m\u001b[1;34m'get'\u001b[0m\u001b[1;33m,\u001b[0m \u001b[0murl\u001b[0m\u001b[1;33m,\u001b[0m \u001b[0mparams\u001b[0m\u001b[1;33m=\u001b[0m\u001b[0mparams\u001b[0m\u001b[1;33m,\u001b[0m \u001b[1;33m**\u001b[0m\u001b[0mkwargs\u001b[0m\u001b[1;33m)\u001b[0m\u001b[1;33m\u001b[0m\u001b[0m\n\u001b[0m\u001b[0;32m     73\u001b[0m \u001b[1;33m\u001b[0m\u001b[0m\n\u001b[0;32m     74\u001b[0m \u001b[1;33m\u001b[0m\u001b[0m\n",
      "\u001b[1;32mC:\\Users\\iima\\Anaconda3\\lib\\site-packages\\requests\\api.py\u001b[0m in \u001b[0;36mrequest\u001b[1;34m(method, url, **kwargs)\u001b[0m\n\u001b[0;32m     56\u001b[0m     \u001b[1;31m# cases, and look like a memory leak in others.\u001b[0m\u001b[1;33m\u001b[0m\u001b[1;33m\u001b[0m\u001b[0m\n\u001b[0;32m     57\u001b[0m     \u001b[1;32mwith\u001b[0m \u001b[0msessions\u001b[0m\u001b[1;33m.\u001b[0m\u001b[0mSession\u001b[0m\u001b[1;33m(\u001b[0m\u001b[1;33m)\u001b[0m \u001b[1;32mas\u001b[0m \u001b[0msession\u001b[0m\u001b[1;33m:\u001b[0m\u001b[1;33m\u001b[0m\u001b[0m\n\u001b[1;32m---> 58\u001b[1;33m         \u001b[1;32mreturn\u001b[0m \u001b[0msession\u001b[0m\u001b[1;33m.\u001b[0m\u001b[0mrequest\u001b[0m\u001b[1;33m(\u001b[0m\u001b[0mmethod\u001b[0m\u001b[1;33m=\u001b[0m\u001b[0mmethod\u001b[0m\u001b[1;33m,\u001b[0m \u001b[0murl\u001b[0m\u001b[1;33m=\u001b[0m\u001b[0murl\u001b[0m\u001b[1;33m,\u001b[0m \u001b[1;33m**\u001b[0m\u001b[0mkwargs\u001b[0m\u001b[1;33m)\u001b[0m\u001b[1;33m\u001b[0m\u001b[0m\n\u001b[0m\u001b[0;32m     59\u001b[0m \u001b[1;33m\u001b[0m\u001b[0m\n\u001b[0;32m     60\u001b[0m \u001b[1;33m\u001b[0m\u001b[0m\n",
      "\u001b[1;32mC:\\Users\\iima\\Anaconda3\\lib\\site-packages\\requests\\sessions.py\u001b[0m in \u001b[0;36mrequest\u001b[1;34m(self, method, url, params, data, headers, cookies, files, auth, timeout, allow_redirects, proxies, hooks, stream, verify, cert, json)\u001b[0m\n\u001b[0;32m    516\u001b[0m         }\n\u001b[0;32m    517\u001b[0m         \u001b[0msend_kwargs\u001b[0m\u001b[1;33m.\u001b[0m\u001b[0mupdate\u001b[0m\u001b[1;33m(\u001b[0m\u001b[0msettings\u001b[0m\u001b[1;33m)\u001b[0m\u001b[1;33m\u001b[0m\u001b[0m\n\u001b[1;32m--> 518\u001b[1;33m         \u001b[0mresp\u001b[0m \u001b[1;33m=\u001b[0m \u001b[0mself\u001b[0m\u001b[1;33m.\u001b[0m\u001b[0msend\u001b[0m\u001b[1;33m(\u001b[0m\u001b[0mprep\u001b[0m\u001b[1;33m,\u001b[0m \u001b[1;33m**\u001b[0m\u001b[0msend_kwargs\u001b[0m\u001b[1;33m)\u001b[0m\u001b[1;33m\u001b[0m\u001b[0m\n\u001b[0m\u001b[0;32m    519\u001b[0m \u001b[1;33m\u001b[0m\u001b[0m\n\u001b[0;32m    520\u001b[0m         \u001b[1;32mreturn\u001b[0m \u001b[0mresp\u001b[0m\u001b[1;33m\u001b[0m\u001b[0m\n",
      "\u001b[1;32mC:\\Users\\iima\\Anaconda3\\lib\\site-packages\\requests\\sessions.py\u001b[0m in \u001b[0;36msend\u001b[1;34m(self, request, **kwargs)\u001b[0m\n\u001b[0;32m    637\u001b[0m \u001b[1;33m\u001b[0m\u001b[0m\n\u001b[0;32m    638\u001b[0m         \u001b[1;31m# Send the request\u001b[0m\u001b[1;33m\u001b[0m\u001b[1;33m\u001b[0m\u001b[0m\n\u001b[1;32m--> 639\u001b[1;33m         \u001b[0mr\u001b[0m \u001b[1;33m=\u001b[0m \u001b[0madapter\u001b[0m\u001b[1;33m.\u001b[0m\u001b[0msend\u001b[0m\u001b[1;33m(\u001b[0m\u001b[0mrequest\u001b[0m\u001b[1;33m,\u001b[0m \u001b[1;33m**\u001b[0m\u001b[0mkwargs\u001b[0m\u001b[1;33m)\u001b[0m\u001b[1;33m\u001b[0m\u001b[0m\n\u001b[0m\u001b[0;32m    640\u001b[0m \u001b[1;33m\u001b[0m\u001b[0m\n\u001b[0;32m    641\u001b[0m         \u001b[1;31m# Total elapsed time of the request (approximately)\u001b[0m\u001b[1;33m\u001b[0m\u001b[1;33m\u001b[0m\u001b[0m\n",
      "\u001b[1;32mC:\\Users\\iima\\Anaconda3\\lib\\site-packages\\requests\\adapters.py\u001b[0m in \u001b[0;36msend\u001b[1;34m(self, request, stream, timeout, verify, cert, proxies)\u001b[0m\n\u001b[0;32m    436\u001b[0m                     \u001b[0mdecode_content\u001b[0m\u001b[1;33m=\u001b[0m\u001b[1;32mFalse\u001b[0m\u001b[1;33m,\u001b[0m\u001b[1;33m\u001b[0m\u001b[0m\n\u001b[0;32m    437\u001b[0m                     \u001b[0mretries\u001b[0m\u001b[1;33m=\u001b[0m\u001b[0mself\u001b[0m\u001b[1;33m.\u001b[0m\u001b[0mmax_retries\u001b[0m\u001b[1;33m,\u001b[0m\u001b[1;33m\u001b[0m\u001b[0m\n\u001b[1;32m--> 438\u001b[1;33m                     \u001b[0mtimeout\u001b[0m\u001b[1;33m=\u001b[0m\u001b[0mtimeout\u001b[0m\u001b[1;33m\u001b[0m\u001b[0m\n\u001b[0m\u001b[0;32m    439\u001b[0m                 )\n\u001b[0;32m    440\u001b[0m \u001b[1;33m\u001b[0m\u001b[0m\n",
      "\u001b[1;32mC:\\Users\\iima\\Anaconda3\\lib\\site-packages\\requests\\packages\\urllib3\\connectionpool.py\u001b[0m in \u001b[0;36murlopen\u001b[1;34m(self, method, url, body, headers, retries, redirect, assert_same_host, timeout, pool_timeout, release_conn, chunked, body_pos, **response_kw)\u001b[0m\n\u001b[0;32m    598\u001b[0m                                                   \u001b[0mtimeout\u001b[0m\u001b[1;33m=\u001b[0m\u001b[0mtimeout_obj\u001b[0m\u001b[1;33m,\u001b[0m\u001b[1;33m\u001b[0m\u001b[0m\n\u001b[0;32m    599\u001b[0m                                                   \u001b[0mbody\u001b[0m\u001b[1;33m=\u001b[0m\u001b[0mbody\u001b[0m\u001b[1;33m,\u001b[0m \u001b[0mheaders\u001b[0m\u001b[1;33m=\u001b[0m\u001b[0mheaders\u001b[0m\u001b[1;33m,\u001b[0m\u001b[1;33m\u001b[0m\u001b[0m\n\u001b[1;32m--> 600\u001b[1;33m                                                   chunked=chunked)\n\u001b[0m\u001b[0;32m    601\u001b[0m \u001b[1;33m\u001b[0m\u001b[0m\n\u001b[0;32m    602\u001b[0m             \u001b[1;31m# If we're going to release the connection in ``finally:``, then\u001b[0m\u001b[1;33m\u001b[0m\u001b[1;33m\u001b[0m\u001b[0m\n",
      "\u001b[1;32mC:\\Users\\iima\\Anaconda3\\lib\\site-packages\\requests\\packages\\urllib3\\connectionpool.py\u001b[0m in \u001b[0;36m_make_request\u001b[1;34m(self, conn, method, url, timeout, chunked, **httplib_request_kw)\u001b[0m\n\u001b[0;32m    380\u001b[0m             \u001b[1;32mexcept\u001b[0m \u001b[0mTypeError\u001b[0m\u001b[1;33m:\u001b[0m  \u001b[1;31m# Python 2.6 and older, Python 3\u001b[0m\u001b[1;33m\u001b[0m\u001b[0m\n\u001b[0;32m    381\u001b[0m                 \u001b[1;32mtry\u001b[0m\u001b[1;33m:\u001b[0m\u001b[1;33m\u001b[0m\u001b[0m\n\u001b[1;32m--> 382\u001b[1;33m                     \u001b[0mhttplib_response\u001b[0m \u001b[1;33m=\u001b[0m \u001b[0mconn\u001b[0m\u001b[1;33m.\u001b[0m\u001b[0mgetresponse\u001b[0m\u001b[1;33m(\u001b[0m\u001b[1;33m)\u001b[0m\u001b[1;33m\u001b[0m\u001b[0m\n\u001b[0m\u001b[0;32m    383\u001b[0m                 \u001b[1;32mexcept\u001b[0m \u001b[0mException\u001b[0m \u001b[1;32mas\u001b[0m \u001b[0me\u001b[0m\u001b[1;33m:\u001b[0m\u001b[1;33m\u001b[0m\u001b[0m\n\u001b[0;32m    384\u001b[0m                     \u001b[1;31m# Remove the TypeError from the exception chain in Python 3;\u001b[0m\u001b[1;33m\u001b[0m\u001b[1;33m\u001b[0m\u001b[0m\n",
      "\u001b[1;32mC:\\Users\\iima\\Anaconda3\\lib\\http\\client.py\u001b[0m in \u001b[0;36mgetresponse\u001b[1;34m(self)\u001b[0m\n\u001b[0;32m   1329\u001b[0m         \u001b[1;32mtry\u001b[0m\u001b[1;33m:\u001b[0m\u001b[1;33m\u001b[0m\u001b[0m\n\u001b[0;32m   1330\u001b[0m             \u001b[1;32mtry\u001b[0m\u001b[1;33m:\u001b[0m\u001b[1;33m\u001b[0m\u001b[0m\n\u001b[1;32m-> 1331\u001b[1;33m                 \u001b[0mresponse\u001b[0m\u001b[1;33m.\u001b[0m\u001b[0mbegin\u001b[0m\u001b[1;33m(\u001b[0m\u001b[1;33m)\u001b[0m\u001b[1;33m\u001b[0m\u001b[0m\n\u001b[0m\u001b[0;32m   1332\u001b[0m             \u001b[1;32mexcept\u001b[0m \u001b[0mConnectionError\u001b[0m\u001b[1;33m:\u001b[0m\u001b[1;33m\u001b[0m\u001b[0m\n\u001b[0;32m   1333\u001b[0m                 \u001b[0mself\u001b[0m\u001b[1;33m.\u001b[0m\u001b[0mclose\u001b[0m\u001b[1;33m(\u001b[0m\u001b[1;33m)\u001b[0m\u001b[1;33m\u001b[0m\u001b[0m\n",
      "\u001b[1;32mC:\\Users\\iima\\Anaconda3\\lib\\http\\client.py\u001b[0m in \u001b[0;36mbegin\u001b[1;34m(self)\u001b[0m\n\u001b[0;32m    295\u001b[0m         \u001b[1;31m# read until we get a non-100 response\u001b[0m\u001b[1;33m\u001b[0m\u001b[1;33m\u001b[0m\u001b[0m\n\u001b[0;32m    296\u001b[0m         \u001b[1;32mwhile\u001b[0m \u001b[1;32mTrue\u001b[0m\u001b[1;33m:\u001b[0m\u001b[1;33m\u001b[0m\u001b[0m\n\u001b[1;32m--> 297\u001b[1;33m             \u001b[0mversion\u001b[0m\u001b[1;33m,\u001b[0m \u001b[0mstatus\u001b[0m\u001b[1;33m,\u001b[0m \u001b[0mreason\u001b[0m \u001b[1;33m=\u001b[0m \u001b[0mself\u001b[0m\u001b[1;33m.\u001b[0m\u001b[0m_read_status\u001b[0m\u001b[1;33m(\u001b[0m\u001b[1;33m)\u001b[0m\u001b[1;33m\u001b[0m\u001b[0m\n\u001b[0m\u001b[0;32m    298\u001b[0m             \u001b[1;32mif\u001b[0m \u001b[0mstatus\u001b[0m \u001b[1;33m!=\u001b[0m \u001b[0mCONTINUE\u001b[0m\u001b[1;33m:\u001b[0m\u001b[1;33m\u001b[0m\u001b[0m\n\u001b[0;32m    299\u001b[0m                 \u001b[1;32mbreak\u001b[0m\u001b[1;33m\u001b[0m\u001b[0m\n",
      "\u001b[1;32mC:\\Users\\iima\\Anaconda3\\lib\\http\\client.py\u001b[0m in \u001b[0;36m_read_status\u001b[1;34m(self)\u001b[0m\n\u001b[0;32m    256\u001b[0m \u001b[1;33m\u001b[0m\u001b[0m\n\u001b[0;32m    257\u001b[0m     \u001b[1;32mdef\u001b[0m \u001b[0m_read_status\u001b[0m\u001b[1;33m(\u001b[0m\u001b[0mself\u001b[0m\u001b[1;33m)\u001b[0m\u001b[1;33m:\u001b[0m\u001b[1;33m\u001b[0m\u001b[0m\n\u001b[1;32m--> 258\u001b[1;33m         \u001b[0mline\u001b[0m \u001b[1;33m=\u001b[0m \u001b[0mstr\u001b[0m\u001b[1;33m(\u001b[0m\u001b[0mself\u001b[0m\u001b[1;33m.\u001b[0m\u001b[0mfp\u001b[0m\u001b[1;33m.\u001b[0m\u001b[0mreadline\u001b[0m\u001b[1;33m(\u001b[0m\u001b[0m_MAXLINE\u001b[0m \u001b[1;33m+\u001b[0m \u001b[1;36m1\u001b[0m\u001b[1;33m)\u001b[0m\u001b[1;33m,\u001b[0m \u001b[1;34m\"iso-8859-1\"\u001b[0m\u001b[1;33m)\u001b[0m\u001b[1;33m\u001b[0m\u001b[0m\n\u001b[0m\u001b[0;32m    259\u001b[0m         \u001b[1;32mif\u001b[0m \u001b[0mlen\u001b[0m\u001b[1;33m(\u001b[0m\u001b[0mline\u001b[0m\u001b[1;33m)\u001b[0m \u001b[1;33m>\u001b[0m \u001b[0m_MAXLINE\u001b[0m\u001b[1;33m:\u001b[0m\u001b[1;33m\u001b[0m\u001b[0m\n\u001b[0;32m    260\u001b[0m             \u001b[1;32mraise\u001b[0m \u001b[0mLineTooLong\u001b[0m\u001b[1;33m(\u001b[0m\u001b[1;34m\"status line\"\u001b[0m\u001b[1;33m)\u001b[0m\u001b[1;33m\u001b[0m\u001b[0m\n",
      "\u001b[1;32mC:\\Users\\iima\\Anaconda3\\lib\\socket.py\u001b[0m in \u001b[0;36mreadinto\u001b[1;34m(self, b)\u001b[0m\n\u001b[0;32m    584\u001b[0m         \u001b[1;32mwhile\u001b[0m \u001b[1;32mTrue\u001b[0m\u001b[1;33m:\u001b[0m\u001b[1;33m\u001b[0m\u001b[0m\n\u001b[0;32m    585\u001b[0m             \u001b[1;32mtry\u001b[0m\u001b[1;33m:\u001b[0m\u001b[1;33m\u001b[0m\u001b[0m\n\u001b[1;32m--> 586\u001b[1;33m                 \u001b[1;32mreturn\u001b[0m \u001b[0mself\u001b[0m\u001b[1;33m.\u001b[0m\u001b[0m_sock\u001b[0m\u001b[1;33m.\u001b[0m\u001b[0mrecv_into\u001b[0m\u001b[1;33m(\u001b[0m\u001b[0mb\u001b[0m\u001b[1;33m)\u001b[0m\u001b[1;33m\u001b[0m\u001b[0m\n\u001b[0m\u001b[0;32m    587\u001b[0m             \u001b[1;32mexcept\u001b[0m \u001b[0mtimeout\u001b[0m\u001b[1;33m:\u001b[0m\u001b[1;33m\u001b[0m\u001b[0m\n\u001b[0;32m    588\u001b[0m                 \u001b[0mself\u001b[0m\u001b[1;33m.\u001b[0m\u001b[0m_timeout_occurred\u001b[0m \u001b[1;33m=\u001b[0m \u001b[1;32mTrue\u001b[0m\u001b[1;33m\u001b[0m\u001b[0m\n",
      "\u001b[1;32mC:\\Users\\iima\\Anaconda3\\lib\\site-packages\\requests\\packages\\urllib3\\contrib\\pyopenssl.py\u001b[0m in \u001b[0;36mrecv_into\u001b[1;34m(self, *args, **kwargs)\u001b[0m\n\u001b[0;32m    275\u001b[0m     \u001b[1;32mdef\u001b[0m \u001b[0mrecv_into\u001b[0m\u001b[1;33m(\u001b[0m\u001b[0mself\u001b[0m\u001b[1;33m,\u001b[0m \u001b[1;33m*\u001b[0m\u001b[0margs\u001b[0m\u001b[1;33m,\u001b[0m \u001b[1;33m**\u001b[0m\u001b[0mkwargs\u001b[0m\u001b[1;33m)\u001b[0m\u001b[1;33m:\u001b[0m\u001b[1;33m\u001b[0m\u001b[0m\n\u001b[0;32m    276\u001b[0m         \u001b[1;32mtry\u001b[0m\u001b[1;33m:\u001b[0m\u001b[1;33m\u001b[0m\u001b[0m\n\u001b[1;32m--> 277\u001b[1;33m             \u001b[1;32mreturn\u001b[0m \u001b[0mself\u001b[0m\u001b[1;33m.\u001b[0m\u001b[0mconnection\u001b[0m\u001b[1;33m.\u001b[0m\u001b[0mrecv_into\u001b[0m\u001b[1;33m(\u001b[0m\u001b[1;33m*\u001b[0m\u001b[0margs\u001b[0m\u001b[1;33m,\u001b[0m \u001b[1;33m**\u001b[0m\u001b[0mkwargs\u001b[0m\u001b[1;33m)\u001b[0m\u001b[1;33m\u001b[0m\u001b[0m\n\u001b[0m\u001b[0;32m    278\u001b[0m         \u001b[1;32mexcept\u001b[0m \u001b[0mOpenSSL\u001b[0m\u001b[1;33m.\u001b[0m\u001b[0mSSL\u001b[0m\u001b[1;33m.\u001b[0m\u001b[0mSysCallError\u001b[0m \u001b[1;32mas\u001b[0m \u001b[0me\u001b[0m\u001b[1;33m:\u001b[0m\u001b[1;33m\u001b[0m\u001b[0m\n\u001b[0;32m    279\u001b[0m             \u001b[1;32mif\u001b[0m \u001b[0mself\u001b[0m\u001b[1;33m.\u001b[0m\u001b[0msuppress_ragged_eofs\u001b[0m \u001b[1;32mand\u001b[0m \u001b[0me\u001b[0m\u001b[1;33m.\u001b[0m\u001b[0margs\u001b[0m \u001b[1;33m==\u001b[0m \u001b[1;33m(\u001b[0m\u001b[1;33m-\u001b[0m\u001b[1;36m1\u001b[0m\u001b[1;33m,\u001b[0m \u001b[1;34m'Unexpected EOF'\u001b[0m\u001b[1;33m)\u001b[0m\u001b[1;33m:\u001b[0m\u001b[1;33m\u001b[0m\u001b[0m\n",
      "\u001b[1;32mC:\\Users\\iima\\Anaconda3\\lib\\site-packages\\OpenSSL\\SSL.py\u001b[0m in \u001b[0;36mrecv_into\u001b[1;34m(self, buffer, nbytes, flags)\u001b[0m\n\u001b[0;32m   1544\u001b[0m             \u001b[0mresult\u001b[0m \u001b[1;33m=\u001b[0m \u001b[0m_lib\u001b[0m\u001b[1;33m.\u001b[0m\u001b[0mSSL_peek\u001b[0m\u001b[1;33m(\u001b[0m\u001b[0mself\u001b[0m\u001b[1;33m.\u001b[0m\u001b[0m_ssl\u001b[0m\u001b[1;33m,\u001b[0m \u001b[0mbuf\u001b[0m\u001b[1;33m,\u001b[0m \u001b[0mnbytes\u001b[0m\u001b[1;33m)\u001b[0m\u001b[1;33m\u001b[0m\u001b[0m\n\u001b[0;32m   1545\u001b[0m         \u001b[1;32melse\u001b[0m\u001b[1;33m:\u001b[0m\u001b[1;33m\u001b[0m\u001b[0m\n\u001b[1;32m-> 1546\u001b[1;33m             \u001b[0mresult\u001b[0m \u001b[1;33m=\u001b[0m \u001b[0m_lib\u001b[0m\u001b[1;33m.\u001b[0m\u001b[0mSSL_read\u001b[0m\u001b[1;33m(\u001b[0m\u001b[0mself\u001b[0m\u001b[1;33m.\u001b[0m\u001b[0m_ssl\u001b[0m\u001b[1;33m,\u001b[0m \u001b[0mbuf\u001b[0m\u001b[1;33m,\u001b[0m \u001b[0mnbytes\u001b[0m\u001b[1;33m)\u001b[0m\u001b[1;33m\u001b[0m\u001b[0m\n\u001b[0m\u001b[0;32m   1547\u001b[0m         \u001b[0mself\u001b[0m\u001b[1;33m.\u001b[0m\u001b[0m_raise_ssl_error\u001b[0m\u001b[1;33m(\u001b[0m\u001b[0mself\u001b[0m\u001b[1;33m.\u001b[0m\u001b[0m_ssl\u001b[0m\u001b[1;33m,\u001b[0m \u001b[0mresult\u001b[0m\u001b[1;33m)\u001b[0m\u001b[1;33m\u001b[0m\u001b[0m\n\u001b[0;32m   1548\u001b[0m \u001b[1;33m\u001b[0m\u001b[0m\n",
      "\u001b[1;31mKeyboardInterrupt\u001b[0m: "
     ]
    }
   ],
   "source": [
    "full_content_list = []\n",
    "str_list = []\n",
    "for (news_id, url) in zip(data['news_ID'].values, data['hyperlink'].values):\n",
    "    try:\n",
    "        full_content_list.append(scraper(news_id, url))\n",
    "    except Exception as e:\n",
    "        full_content_list.append({'news_id': news_id,\n",
    "                                  'url': url,\n",
    "                                  'raw_content': '',\n",
    "                                  'status': e\n",
    "                                 })      \n",
    "    if news_id % 100 == 0:\n",
    "        print(news_id)\n",
    "print('Finish!')"
   ]
  },
  {
   "cell_type": "code",
   "execution_count": 6,
   "metadata": {},
   "outputs": [
    {
     "name": "stdout",
     "output_type": "stream",
     "text": [
      "(5023, 4)\n",
      "Index(['news_id', 'raw_content', 'status', 'url'], dtype='object')\n",
      "(5023, 6)\n",
      "Index(['news_id', 'url', 'context', 'name', 'raw_content', 'status'], dtype='object')\n"
     ]
    }
   ],
   "source": [
    "# to pd.df\n",
    "content_df = pd.DataFrame(full_content_list)\n",
    "print(content_df.shape)\n",
    "print(content_df.columns)\n",
    "\n",
    "# 把train與爬下來的資料合併\n",
    "content_df = data.merge(content_df, how='inner', left_on='news_ID', right_on='news_id').drop(columns='hyperlink')\n",
    "content_df = content_df[['news_ID', 'url', 'content', 'name', 'raw_content', 'status']]\n",
    "content_df.columns = ['news_id', 'url', 'context', 'name', 'raw_content', 'status']\n",
    "print(content_df.shape)\n",
    "print(content_df.columns)\n"
   ]
  },
  {
   "cell_type": "code",
   "execution_count": 34,
   "metadata": {},
   "outputs": [
    {
     "name": "stdout",
     "output_type": "stream",
     "text": [
      "Int64Index([], dtype='int64')\n"
     ]
    }
   ],
   "source": [
    "# 嘗試補爬失敗的部分\n",
    "fail_index = content_df.loc[content_df['status'].str.len() > 12].index\n",
    "print(fail_index)\n",
    "for i in fail_index:\n",
    "    try:\n",
    "        temp = scraper(content_df.iloc[i, 0], content_df.iloc[i, 1])\n",
    "        content_df.iloc[i, 4] = temp['raw_content']\n",
    "        content_df.iloc[i, 5] = temp['status']\n",
    "        print(content_df.iloc[i, 0])\n",
    "    except:\n",
    "        continue\n"
   ]
  },
  {
   "cell_type": "code",
   "execution_count": 35,
   "metadata": {},
   "outputs": [
    {
     "name": "stdout",
     "output_type": "stream",
     "text": [
      "1:22:58.293786\n"
     ]
    }
   ],
   "source": [
    "# save data\n",
    "content_df.to_csv('content_df_0612.csv', index=False)\n",
    "ed = datetime.now()\n",
    "print(ed - st)"
   ]
  },
  {
   "cell_type": "markdown",
   "metadata": {},
   "source": [
    "# 檢查資料"
   ]
  },
  {
   "cell_type": "code",
   "execution_count": 36,
   "metadata": {
    "collapsed": true
   },
   "outputs": [],
   "source": [
    "content_df = pd.read_csv('content_df_0612.csv')"
   ]
  },
  {
   "cell_type": "code",
   "execution_count": 49,
   "metadata": {},
   "outputs": [
    {
     "name": "stdout",
     "output_type": "stream",
     "text": [
      "True\n",
      "True\n"
     ]
    }
   ],
   "source": [
    "# 隨著時間流逝，404的應該會越來越多，所以想把以前有爬到現在沒爬到的補上\n",
    "# 但目前看來並沒有增加\n",
    "content_df1 = pd.read_csv('content_df_4.csv')\n",
    "content_df2 = pd.read_csv('content_df_0611.csv')\n",
    "\n",
    "# 最初版與0612，是否404的index都一樣\n",
    "print(all(content_df1.loc[content_df['status'] == '404NotFound'].index \n",
    "          == content_df.loc[content_df['status'] == '404NotFound'].index))\n",
    "# 0611與0612\n",
    "print(all(content_df1.loc[content_df['status'] == '404NotFound'].index \n",
    "          == content_df.loc[content_df['status'] == '404NotFound'].index))"
   ]
  },
  {
   "cell_type": "code",
   "execution_count": 37,
   "metadata": {},
   "outputs": [
    {
     "name": "stdout",
     "output_type": "stream",
     "text": [
      "ok             4855\n",
      "404NotFound     121\n",
      "warning          47\n",
      "Name: status, dtype: int64\n"
     ]
    },
    {
     "data": {
      "text/plain": [
       "[4,\n",
       " 15,\n",
       " 150,\n",
       " 151,\n",
       " 177,\n",
       " 269,\n",
       " 291,\n",
       " 332,\n",
       " 353,\n",
       " 407,\n",
       " 423,\n",
       " 424,\n",
       " 430,\n",
       " 462,\n",
       " 484,\n",
       " 492,\n",
       " 500,\n",
       " 597,\n",
       " 637,\n",
       " 714,\n",
       " 720,\n",
       " 864,\n",
       " 899,\n",
       " 913,\n",
       " 967,\n",
       " 1038,\n",
       " 1056,\n",
       " 1063,\n",
       " 1085,\n",
       " 1142,\n",
       " 1151,\n",
       " 1160,\n",
       " 1173,\n",
       " 1175,\n",
       " 1220,\n",
       " 1303,\n",
       " 1331,\n",
       " 1333,\n",
       " 1367,\n",
       " 1478,\n",
       " 1521,\n",
       " 1523,\n",
       " 1545,\n",
       " 1666,\n",
       " 1715,\n",
       " 1796,\n",
       " 1868,\n",
       " 1900,\n",
       " 1934,\n",
       " 1984,\n",
       " 2031,\n",
       " 2114,\n",
       " 2171,\n",
       " 2313,\n",
       " 2319,\n",
       " 2397,\n",
       " 2431,\n",
       " 2442,\n",
       " 2486,\n",
       " 2494,\n",
       " 2510,\n",
       " 2543,\n",
       " 2552,\n",
       " 2725,\n",
       " 2734,\n",
       " 2791,\n",
       " 2835,\n",
       " 2851,\n",
       " 2883,\n",
       " 2891,\n",
       " 2942,\n",
       " 2985,\n",
       " 3040,\n",
       " 3143,\n",
       " 3160,\n",
       " 3194,\n",
       " 3239,\n",
       " 3276,\n",
       " 3364,\n",
       " 3392,\n",
       " 3401,\n",
       " 3463,\n",
       " 3470,\n",
       " 3524,\n",
       " 3567,\n",
       " 3628,\n",
       " 3632,\n",
       " 3647,\n",
       " 3805,\n",
       " 3905,\n",
       " 4000,\n",
       " 4004,\n",
       " 4066,\n",
       " 4074,\n",
       " 4140,\n",
       " 4149,\n",
       " 4229,\n",
       " 4245,\n",
       " 4334,\n",
       " 4400,\n",
       " 4403,\n",
       " 4425,\n",
       " 4441,\n",
       " 4447,\n",
       " 4554,\n",
       " 4555,\n",
       " 4578,\n",
       " 4593,\n",
       " 4627,\n",
       " 4691,\n",
       " 4752,\n",
       " 4795,\n",
       " 4837,\n",
       " 4890,\n",
       " 4892,\n",
       " 4898,\n",
       " 4907,\n",
       " 4939,\n",
       " 4944,\n",
       " 4946,\n",
       " 5012]"
      ]
     },
     "execution_count": 37,
     "metadata": {},
     "output_type": "execute_result"
    }
   ],
   "source": [
    "# 404 or 500等，找不到文章的情況\n",
    "print(content_df['status'].value_counts())\n",
    "content_df.loc[content_df['status'] == '404NotFound', 'news_id'].to_list()"
   ]
  },
  {
   "cell_type": "code",
   "execution_count": 38,
   "metadata": {},
   "outputs": [
    {
     "data": {
      "text/plain": [
       "14                https://udn.com/news/story/7321/3845624\n",
       "149     https://udn.com/news/story/7321/3833161?from=u...\n",
       "150               https://udn.com/news/story/7321/3745835\n",
       "176     https://udn.com/news/story/6656/3788408?from=u...\n",
       "268               https://udn.com/news/story/7315/3710851\n",
       "290     http://news.ltn.com.tw/news/society/breakingne...\n",
       "352               https://udn.com/news/story/7321/3723499\n",
       "422               https://udn.com/news/story/7321/3664040\n",
       "719     https://news.ltn.com.tw/news/politics/paper/13...\n",
       "898               https://udn.com/news/story/7332/3777321\n",
       "912               https://udn.com/news/story/7321/3744162\n",
       "1150    https://udn.com/news/story/7321/3751082?from=u...\n",
       "1172              https://udn.com/news/story/7321/3773733\n",
       "1477             https://udn.com/news/story/11322/3661563\n",
       "1867       https://money.udn.com/money/story/5621/3790042\n",
       "1983              https://udn.com/news/story/7315/3657017\n",
       "2113              https://udn.com/news/story/7321/3775400\n",
       "2170              https://udn.com/news/story/7321/3830167\n",
       "2430      https://m.ltn.com.tw/news/society/paper/1320916\n",
       "2509              https://udn.com/news/story/7315/3840490\n",
       "2733              https://udn.com/news/story/7321/3669357\n",
       "2890              https://udn.com/news/story/7321/3766397\n",
       "2941              https://udn.com/news/story/7315/3855498\n",
       "2984    https://tw.news.yahoo.com/%E5%A5%87%E8%B9%9F%E...\n",
       "3238              https://udn.com/news/story/7321/3735464\n",
       "3275              https://udn.com/news/story/7315/3813514\n",
       "3391              https://udn.com/news/story/7321/3722565\n",
       "3400              https://udn.com/news/story/7315/3758206\n",
       "3523              https://udn.com/news/story/7315/3815818\n",
       "3566              https://udn.com/news/story/7321/3761524\n",
       "3904              https://udn.com/news/story/7328/3743321\n",
       "4148       https://money.udn.com/money/story/5648/3842152\n",
       "4228       https://money.udn.com/money/story/5612/3825917\n",
       "4333              https://udn.com/news/story/7321/3750336\n",
       "4424              https://udn.com/news/story/7321/3770195\n",
       "4577              https://udn.com/news/story/7321/3707348\n",
       "4751              https://udn.com/news/story/7315/3674909\n",
       "4794       https://money.udn.com/money/story/5648/3721782\n",
       "4889    https://www.ettoday.net/news/20190917/1536776.htm\n",
       "4943              https://udn.com/news/story/7321/3722197\n",
       "4945              https://udn.com/news/story/7315/3742787\n",
       "Name: url, dtype: object"
      ]
     },
     "execution_count": 38,
     "metadata": {},
     "output_type": "execute_result"
    }
   ],
   "source": [
    "# 找不到文章，但是有目標人名\n",
    "content_df.loc[(content_df['status'] == '404NotFound') & (content_df['name'] != '[]'), 'url']"
   ]
  },
  {
   "cell_type": "code",
   "execution_count": 39,
   "metadata": {},
   "outputs": [
    {
     "name": "stdout",
     "output_type": "stream",
     "text": [
      "0\n"
     ]
    },
    {
     "data": {
      "text/html": [
       "<div>\n",
       "<style scoped>\n",
       "    .dataframe tbody tr th:only-of-type {\n",
       "        vertical-align: middle;\n",
       "    }\n",
       "\n",
       "    .dataframe tbody tr th {\n",
       "        vertical-align: top;\n",
       "    }\n",
       "\n",
       "    .dataframe thead th {\n",
       "        text-align: right;\n",
       "    }\n",
       "</style>\n",
       "<table border=\"1\" class=\"dataframe\">\n",
       "  <thead>\n",
       "    <tr style=\"text-align: right;\">\n",
       "      <th></th>\n",
       "      <th>news_id</th>\n",
       "      <th>url</th>\n",
       "      <th>context</th>\n",
       "      <th>name</th>\n",
       "      <th>raw_content</th>\n",
       "      <th>status</th>\n",
       "    </tr>\n",
       "  </thead>\n",
       "  <tbody>\n",
       "  </tbody>\n",
       "</table>\n",
       "</div>"
      ],
      "text/plain": [
       "Empty DataFrame\n",
       "Columns: [news_id, url, context, name, raw_content, status]\n",
       "Index: []"
      ]
     },
     "execution_count": 39,
     "metadata": {},
     "output_type": "execute_result"
    }
   ],
   "source": [
    "# check raw_content 是否都有爬到\n",
    "print(((content_df['raw_content'].str.replace('\\n', '') == '') & (content_df['status'] != '404NotFound')).sum())\n",
    "content_df.loc[(content_df['raw_content'].str.replace('\\n', '') == '') & (content_df['status'] != '404NotFound')]"
   ]
  },
  {
   "cell_type": "code",
   "execution_count": 40,
   "metadata": {},
   "outputs": [
    {
     "name": "stdout",
     "output_type": "stream",
     "text": [
      "0\n"
     ]
    },
    {
     "data": {
      "text/html": [
       "<div>\n",
       "<style scoped>\n",
       "    .dataframe tbody tr th:only-of-type {\n",
       "        vertical-align: middle;\n",
       "    }\n",
       "\n",
       "    .dataframe tbody tr th {\n",
       "        vertical-align: top;\n",
       "    }\n",
       "\n",
       "    .dataframe thead th {\n",
       "        text-align: right;\n",
       "    }\n",
       "</style>\n",
       "<table border=\"1\" class=\"dataframe\">\n",
       "  <thead>\n",
       "    <tr style=\"text-align: right;\">\n",
       "      <th></th>\n",
       "      <th>news_id</th>\n",
       "      <th>url</th>\n",
       "      <th>context</th>\n",
       "      <th>name</th>\n",
       "      <th>raw_content</th>\n",
       "      <th>status</th>\n",
       "    </tr>\n",
       "  </thead>\n",
       "  <tbody>\n",
       "  </tbody>\n",
       "</table>\n",
       "</div>"
      ],
      "text/plain": [
       "Empty DataFrame\n",
       "Columns: [news_id, url, context, name, raw_content, status]\n",
       "Index: []"
      ]
     },
     "execution_count": 40,
     "metadata": {},
     "output_type": "execute_result"
    }
   ],
   "source": [
    "# check raw_content 是否都有爬到\n",
    "print(((content_df['raw_content'].isna()) & (content_df['status'] != '404NotFound')).sum())\n",
    "content_df.loc[(content_df['raw_content'].isna()) & (content_df['status'] != '404NotFound')]"
   ]
  },
  {
   "cell_type": "code",
   "execution_count": 41,
   "metadata": {},
   "outputs": [
    {
     "name": "stdout",
     "output_type": "stream",
     "text": [
      "4\n"
     ]
    },
    {
     "data": {
      "text/html": [
       "<div>\n",
       "<style scoped>\n",
       "    .dataframe tbody tr th:only-of-type {\n",
       "        vertical-align: middle;\n",
       "    }\n",
       "\n",
       "    .dataframe tbody tr th {\n",
       "        vertical-align: top;\n",
       "    }\n",
       "\n",
       "    .dataframe thead th {\n",
       "        text-align: right;\n",
       "    }\n",
       "</style>\n",
       "<table border=\"1\" class=\"dataframe\">\n",
       "  <thead>\n",
       "    <tr style=\"text-align: right;\">\n",
       "      <th></th>\n",
       "      <th>news_id</th>\n",
       "      <th>url</th>\n",
       "      <th>context</th>\n",
       "      <th>name</th>\n",
       "      <th>raw_content</th>\n",
       "      <th>status</th>\n",
       "    </tr>\n",
       "  </thead>\n",
       "  <tbody>\n",
       "    <tr>\n",
       "      <th>120</th>\n",
       "      <td>121</td>\n",
       "      <td>https://news.ltn.com.tw/news/society/breakingn...</td>\n",
       "      <td>新竹市中正市場得標廠商力揚展業負責人、竹市攤販協會理事長林良琪 ### 省略內文 ### 再...</td>\n",
       "      <td>['楊展業', '林良琪', '戴吟曲']</td>\n",
       "      <td>為達最佳瀏覽效果，建議使用 Chrome、Firefox 或 Microsoft Edge ...</td>\n",
       "      <td>ok</td>\n",
       "    </tr>\n",
       "    <tr>\n",
       "      <th>2142</th>\n",
       "      <td>2143</td>\n",
       "      <td>https://www.chinatimes.com/realtimenews/201910...</td>\n",
       "      <td>前富味鄉董事陳瑞禮因假純芝麻油案遭境管 ### 省略內文 ### 最高法院駁回確定。</td>\n",
       "      <td>['林秀蓉', '陳瑞禮']</td>\n",
       "      <td>前富味鄉董事陳瑞禮因假純芝麻油案遭境管，他以到大陸廣西參與富味鄉工廠建置技術改善等理由聲請暫...</td>\n",
       "      <td>ok</td>\n",
       "    </tr>\n",
       "    <tr>\n",
       "      <th>2252</th>\n",
       "      <td>2253</td>\n",
       "      <td>https://www.chinatimes.com/realtimenews/201903...</td>\n",
       "      <td>知名牙材設備代理商「珖億企業」負責人李建邦 ### 省略內文 ### 今依法起訴4人。</td>\n",
       "      <td>['李建邦', '裘振儀', '張景祥', '古少禾', '何宗英']</td>\n",
       "      <td>可能是因為：</td>\n",
       "      <td>ok</td>\n",
       "    </tr>\n",
       "    <tr>\n",
       "      <th>4596</th>\n",
       "      <td>4597</td>\n",
       "      <td>https://www.chinatimes.com/realtimenews/201904...</td>\n",
       "      <td>「伯利恆綠能土地開發」公司負責人宋姓女子、王姓男子2人 ### 省略內文 ### 近日將對2...</td>\n",
       "      <td>['宋芷妍', '王安石']</td>\n",
       "      <td>「伯利恆綠能土地開發」公司負責人宋姓女子、王姓男子2人，打著與農委會農改場合作名號，謊稱在南...</td>\n",
       "      <td>ok</td>\n",
       "    </tr>\n",
       "  </tbody>\n",
       "</table>\n",
       "</div>"
      ],
      "text/plain": [
       "      news_id                                                url  \\\n",
       "120       121  https://news.ltn.com.tw/news/society/breakingn...   \n",
       "2142     2143  https://www.chinatimes.com/realtimenews/201910...   \n",
       "2252     2253  https://www.chinatimes.com/realtimenews/201903...   \n",
       "4596     4597  https://www.chinatimes.com/realtimenews/201904...   \n",
       "\n",
       "                                                context  \\\n",
       "120   新竹市中正市場得標廠商力揚展業負責人、竹市攤販協會理事長林良琪 ### 省略內文 ### 再...   \n",
       "2142         前富味鄉董事陳瑞禮因假純芝麻油案遭境管 ### 省略內文 ### 最高法院駁回確定。   \n",
       "2252        知名牙材設備代理商「珖億企業」負責人李建邦 ### 省略內文 ### 今依法起訴4人。   \n",
       "4596  「伯利恆綠能土地開發」公司負責人宋姓女子、王姓男子2人 ### 省略內文 ### 近日將對2...   \n",
       "\n",
       "                                     name  \\\n",
       "120                 ['楊展業', '林良琪', '戴吟曲']   \n",
       "2142                       ['林秀蓉', '陳瑞禮']   \n",
       "2252  ['李建邦', '裘振儀', '張景祥', '古少禾', '何宗英']   \n",
       "4596                       ['宋芷妍', '王安石']   \n",
       "\n",
       "                                            raw_content status  \n",
       "120   為達最佳瀏覽效果，建議使用 Chrome、Firefox 或 Microsoft Edge ...     ok  \n",
       "2142  前富味鄉董事陳瑞禮因假純芝麻油案遭境管，他以到大陸廣西參與富味鄉工廠建置技術改善等理由聲請暫...     ok  \n",
       "2252                                             可能是因為：     ok  \n",
       "4596  「伯利恆綠能土地開發」公司負責人宋姓女子、王姓男子2人，打著與農委會農改場合作名號，謊稱在南...     ok  "
      ]
     },
     "execution_count": 41,
     "metadata": {},
     "output_type": "execute_result"
    }
   ],
   "source": [
    "# check name(每個) 都可以在 content裡面找到\n",
    "check_list = check_name(content_df['name'], content_df['raw_content'])\n",
    "print(sum((pd.Series(check_list) == False) & (content_df['status'] != '404NotFound')))\n",
    "content_df.loc[(pd.Series(check_list) == False) & (content_df['status'] != '404NotFound')]\n",
    "# 其中 news_id = 121, 2143, 4597 都是實際文章沒有data裡的人名\n",
    "# 2253 單獨爬可以，不知道為什麼機器爬就出錯"
   ]
  },
  {
   "cell_type": "code",
   "execution_count": 86,
   "metadata": {},
   "outputs": [
    {
     "data": {
      "text/html": [
       "<div>\n",
       "<style scoped>\n",
       "    .dataframe tbody tr th:only-of-type {\n",
       "        vertical-align: middle;\n",
       "    }\n",
       "\n",
       "    .dataframe tbody tr th {\n",
       "        vertical-align: top;\n",
       "    }\n",
       "\n",
       "    .dataframe thead th {\n",
       "        text-align: right;\n",
       "    }\n",
       "</style>\n",
       "<table border=\"1\" class=\"dataframe\">\n",
       "  <thead>\n",
       "    <tr style=\"text-align: right;\">\n",
       "      <th></th>\n",
       "      <th>news_ID</th>\n",
       "      <th>hyperlink</th>\n",
       "      <th>content</th>\n",
       "      <th>name</th>\n",
       "    </tr>\n",
       "  </thead>\n",
       "  <tbody>\n",
       "    <tr>\n",
       "      <th>2142</th>\n",
       "      <td>2143</td>\n",
       "      <td>https://www.chinatimes.com/realtimenews/201910...</td>\n",
       "      <td>前富味鄉董事陳瑞禮因假純芝麻油案遭境管 ### 省略內文 ### 最高法院駁回確定。</td>\n",
       "      <td>['林秀蓉', '陳瑞禮']</td>\n",
       "    </tr>\n",
       "    <tr>\n",
       "      <th>2425</th>\n",
       "      <td>2426</td>\n",
       "      <td>https://www.chinatimes.com/realtimenews/201910...</td>\n",
       "      <td>前富味鄉董事陳瑞禮因假純芝麻油案遭境管 ### 省略內文 ### 最高法院駁回確定。</td>\n",
       "      <td>['陳瑞禮', '陳文南']</td>\n",
       "    </tr>\n",
       "  </tbody>\n",
       "</table>\n",
       "</div>"
      ],
      "text/plain": [
       "      news_ID                                          hyperlink  \\\n",
       "2142     2143  https://www.chinatimes.com/realtimenews/201910...   \n",
       "2425     2426  https://www.chinatimes.com/realtimenews/201910...   \n",
       "\n",
       "                                         content            name  \n",
       "2142  前富味鄉董事陳瑞禮因假純芝麻油案遭境管 ### 省略內文 ### 最高法院駁回確定。  ['林秀蓉', '陳瑞禮']  \n",
       "2425  前富味鄉董事陳瑞禮因假純芝麻油案遭境管 ### 省略內文 ### 最高法院駁回確定。  ['陳瑞禮', '陳文南']  "
      ]
     },
     "execution_count": 86,
     "metadata": {},
     "output_type": "execute_result"
    }
   ],
   "source": [
    "# 原始train_data有兩個一樣的url\n",
    "data.loc[data['hyperlink'] == 'https://www.chinatimes.com/realtimenews/20191014001482-260402?chdtv']"
   ]
  },
  {
   "cell_type": "code",
   "execution_count": 76,
   "metadata": {
    "collapsed": true
   },
   "outputs": [],
   "source": [
    "# don't run\n",
    "# 前後文不可以清，實測可知前後文會包含姓名\n",
    "\n",
    "# 清理前後文\n",
    "def extract_content(context: pd.Series, raw_content: pd.Series) -> pd.Series:\n",
    "    temp_list = []\n",
    "    for ct, rc in zip(context, raw_content):\n",
    "        # 清符號(為了正則匹配)，以\"省略內文\"分前後文\n",
    "        pattern = re.sub('[*.?(){}\\[\\]\\\\\\\\]|<BR>', '', ct).split(' ### 省略內文 ### ')\n",
    "        # 前後5個字做正則匹配，DOTALL可匹配\\n\n",
    "        pattern = re.compile(f'{pattern[0][-5:]}(.*){pattern[1][:5]}', re.DOTALL)\n",
    "        content = re.search(pattern, rc) \n",
    "        \n",
    "        # 沒匹配到會出錯，做try\n",
    "        try:\n",
    "            temp_list.append(content.group(1)) # 只要被省略的部分\n",
    "        except:\n",
    "            temp_list.append('')\n",
    "            \n",
    "    return pd.Series(temp_list)\n",
    "\n",
    "# # content另外清\n",
    "# content_df['content'] = extract_content(content_df['context'], content_df['raw_content'])"
   ]
  }
 ],
 "metadata": {
  "kernelspec": {
   "display_name": "Python 3",
   "language": "python",
   "name": "python3"
  },
  "language_info": {
   "codemirror_mode": {
    "name": "ipython",
    "version": 3
   },
   "file_extension": ".py",
   "mimetype": "text/x-python",
   "name": "python",
   "nbconvert_exporter": "python",
   "pygments_lexer": "ipython3",
   "version": "3.6.1"
  }
 },
 "nbformat": 4,
 "nbformat_minor": 4
}
